{
 "cells": [
  {
   "cell_type": "code",
   "execution_count": 26,
   "metadata": {},
   "outputs": [
    {
     "name": "stdout",
     "output_type": "stream",
     "text": [
      "Фраза 1 длиннее\n"
     ]
    }
   ],
   "source": [
    "#Задание 1\n",
    "\n",
    "phrase_1 = 'Насколько проще было бы писать программы, если бы не заказчики'\n",
    "phrase_2 = '640Кб должно хватить для любых задач. Билл Гейтс (по легенде)'\n",
    "\n",
    "if len(phrase_1) < len(phrase_2):\n",
    "    print ('Фраза 2 длиннее')\n",
    "else:\n",
    "    print ('Фраза 1 длиннее')\n"
   ]
  },
  {
   "cell_type": "code",
   "execution_count": 27,
   "metadata": {},
   "outputs": [
    {
     "name": "stdout",
     "output_type": "stream",
     "text": [
      "Не високосный год\n"
     ]
    }
   ],
   "source": [
    "#Задание 2\n",
    "\n",
    "year = 2023\n",
    "\n",
    "if year % 4 == 0:\n",
    "    print ('Високосный год')\n",
    "else:\n",
    "    print ('Не високосный год')"
   ]
  },
  {
   "cell_type": "code",
   "execution_count": 52,
   "metadata": {},
   "outputs": [
    {
     "name": "stdout",
     "output_type": "stream",
     "text": [
      "Enter your birthday: 1\n",
      "Введите месяц рождения: ноябрь\n",
      "Ваш знак зодиака : скорпион\n"
     ]
    }
   ],
   "source": [
    "day = int(input('Enter your birthday: '))\n",
    "\n",
    "month = input(\"Введите месяц рождения: \")\n",
    "\n",
    "if month == 'март' and day >= 21:\n",
    "    zodiac_sign = 'Овен'\n",
    "if month == 'апрель' and day < 20:\n",
    "    zodiac_sign = 'Овен'\n",
    "if month == 'апрель' and day > 20:\n",
    "    zodiac_sign = 'телец'\n",
    "if month == 'май' and day < 20:\n",
    "    zodiac_sign = 'телец'\n",
    "if month == 'май' and day >= 21:\n",
    "    zodiac_sign = 'близнецы'\n",
    "if month == 'июнь' and day < 21:\n",
    "    zodiac_sign = 'близнецы'\n",
    "if month == 'июнь' and day >= 21:\n",
    "    zodiac_sign = 'рак'\n",
    "if month == 'июль' and day < 23:\n",
    "    zodiac_sign = 'рак'\n",
    "if month == 'июль' and day > 22:\n",
    "    zodiac_sign = 'лев'\n",
    "if month == 'август' and day < 23:\n",
    "    zodiac_sign = 'лев'\n",
    "if month == 'август' and day > 22:\n",
    "    zodiac_sign = 'дева'\n",
    "if month == 'сентябрь' and day < 23:\n",
    "    zodiac_sign = 'дева'\n",
    "if month == 'сентябрь' and day > 22:\n",
    "    zodiac_sign = 'весы'\n",
    "if month == 'октябрь' and day < 23:\n",
    "    zodiac_sign = 'весы'\n",
    "if month == 'октябрь' and day > 22:\n",
    "    zodiac_sign = 'скорпион'\n",
    "if month == 'ноябрь' and day < 22:\n",
    "    zodiac_sign = 'скорпион'\n",
    "if month == 'ноябрь' and day > 21:\n",
    "    zodiac_sign = 'стрелец'\n",
    "if month == 'декабрь' and day < 22:\n",
    "    zodiac_sign = 'стрелец'\n",
    "if month == 'декабрь' and day > 21:\n",
    "    zodiac_sign = 'козерог'\n",
    "if month == 'январь' and day < 20:\n",
    "    zodiac_sign = 'козерог'\n",
    "if month == 'январь' and day > 19:\n",
    "    zodiac_sign = 'водолей'\n",
    "if month == 'февраль' and day < 19:\n",
    "    zodiac_sign = 'водолей'\n",
    "if month == 'ферваль' and day > 18:\n",
    "    zodiac_sign = 'рыбы'\n",
    "if month == 'март' and day < 21:\n",
    "    zodiac_sign = 'рыбы'\n",
    "    \n",
    "print (\"Ваш знак зодиака :\", zodiac_sign)"
   ]
  },
  {
   "cell_type": "code",
   "execution_count": 59,
   "metadata": {},
   "outputs": [
    {
     "name": "stdout",
     "output_type": "stream",
     "text": [
      "Коробка №2\n"
     ]
    }
   ],
   "source": [
    "width = 25\n",
    "length = 25\n",
    "height = 25\n",
    "\n",
    "if width < 15 and length < 15 and height <15:\n",
    "    print('Коробка №1')\n",
    "elif (width > 15 and width <50) and (length > 15 and length <50) and (height > 15 and height <50):\n",
    "    print ('Коробка №2')\n",
    "elif length > 200:\n",
    "    print ('Упаковка для лыж')\n",
    "else:\n",
    "    print ('Стандартная коробка №3')"
   ]
  },
  {
   "cell_type": "code",
   "execution_count": null,
   "metadata": {},
   "outputs": [],
   "source": []
  }
 ],
 "metadata": {
  "kernelspec": {
   "display_name": "Python 3",
   "language": "python",
   "name": "python3"
  },
  "language_info": {
   "codemirror_mode": {
    "name": "ipython",
    "version": 3
   },
   "file_extension": ".py",
   "mimetype": "text/x-python",
   "name": "python",
   "nbconvert_exporter": "python",
   "pygments_lexer": "ipython3",
   "version": "3.8.5"
  }
 },
 "nbformat": 4,
 "nbformat_minor": 4
}
