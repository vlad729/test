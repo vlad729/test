{
 "cells": [
  {
   "cell_type": "code",
   "execution_count": 109,
   "metadata": {},
   "outputs": [
    {
     "data": {
      "text/plain": [
       "[98, 35, 15, 213, 54, 119]"
      ]
     },
     "execution_count": 109,
     "metadata": {},
     "output_type": "execute_result"
    }
   ],
   "source": [
    "#Задание 1\n",
    "\n",
    "ids = {'user1': [213, 213, 213, 15, 213],\n",
    "'user2': [54, 54, 119, 119, 119],\n",
    "'user3': [213, 98, 98, 35]}\n",
    "\n",
    "geo_list = list(ids.values())\n",
    "\n",
    "flat_geos = []\n",
    "for sublist in geo_list:\n",
    "    for item in sublist:\n",
    "        flat_geos.append(item)\n",
    "        \n",
    "list(set(flat_geos))\n"
   ]
  },
  {
   "cell_type": "code",
   "execution_count": 148,
   "metadata": {},
   "outputs": [
    {
     "name": "stdout",
     "output_type": "stream",
     "text": [
      "Поисковых запросов, содержащих  2  слов(а): 42.86 %\n",
      "Поисковых запросов, содержащих  3  слов(а): 57.14 %\n"
     ]
    }
   ],
   "source": [
    "#Задание 2\n",
    "\n",
    "queries = [\n",
    "'смотреть сериалы онлайн',\n",
    "'новости спорта',\n",
    "'афиша кино',\n",
    "'курс доллара',\n",
    "'сериалы этим летом',\n",
    "'курс по питону',\n",
    "'сериалы про спорт',\n",
    "]\n",
    "\n",
    "q_length = []\n",
    "\n",
    "q_2 = 0\n",
    "\n",
    "q_3 = 0\n",
    "\n",
    "q_number = len(queries)\n",
    "\n",
    "for i in queries:\n",
    "    item = i.split(' '),\n",
    "    for j in item:\n",
    "        q = len(j)\n",
    "        q_length.append(q)\n",
    "        \n",
    "for i in q_length:\n",
    "    if i == 2:\n",
    "        q_2 += 1\n",
    "    elif i == 3:\n",
    "        q_3 += 1\n",
    "        \n",
    "q_length_unique = list(set(q_length))    \n",
    "\n",
    "print('Поисковых запросов, содержащих ', 2, ' слов(а):', round((q_2 / q_number * 100), 2), '%')\n",
    "print('Поисковых запросов, содержащих ', 3, ' слов(а):', round((q_3 / q_number * 100), 2), '%')"
   ]
  },
  {
   "cell_type": "code",
   "execution_count": 22,
   "metadata": {},
   "outputs": [
    {
     "name": "stdout",
     "output_type": "stream",
     "text": [
      "Поисковых запросов, содержащих  2  слова,  42.86 %\n",
      "Поисковых запросов, содержащих  3  слова,  57.14 %\n"
     ]
    }
   ],
   "source": [
    "#Задание 2\n",
    "\n",
    "queries = [\n",
    "'смотреть сериалы онлайн',\n",
    "'новости спорта',\n",
    "'афиша кино',\n",
    "'курс доллара',\n",
    "'сериалы этим летом',\n",
    "'курс по питону',\n",
    "'сериалы про спорт',\n",
    "]\n",
    "\n",
    "q_length = []\n",
    "\n",
    "q_number = len(queries)\n",
    "\n",
    "for i in queries:\n",
    "    item = i.split(' '),\n",
    "    for j in item:\n",
    "        q = len(j)\n",
    "        q_length.append(q)\n",
    "        \n",
    "q_length_set = set(q_length)\n",
    "\n",
    "for i in list(q_length_set):\n",
    "    k = 0 \n",
    "    for j in q_length:\n",
    "        if i == j:\n",
    "            k += 1\n",
    "    print('Поисковых запросов, содержащих ', i, ' слова, ', round(k/len(queries)*100, 2), '%')"
   ]
  },
  {
   "cell_type": "code",
   "execution_count": 25,
   "metadata": {},
   "outputs": [
    {
     "data": {
      "text/plain": [
       "{2, 3}"
      ]
     },
     "execution_count": 25,
     "metadata": {},
     "output_type": "execute_result"
    }
   ],
   "source": [
    "queries = [\n",
    "'смотреть сериалы онлайн',\n",
    "'новости спорта',\n",
    "'афиша кино',\n",
    "'курс доллара',\n",
    "'сериалы этим летом',\n",
    "'курс по питону',\n",
    "'сериалы про спорт',\n",
    "]\n",
    "\n",
    "q_length = []\n",
    "\n",
    "for i in queries:\n",
    "    item = i.split(' '),\n",
    "    for j in item:\n",
    "        q = len(j)\n",
    "        q_length.append(q)\n",
    "\n",
    "q_set = set(q_length)\n",
    "\n",
    "q_set\n",
    "\n",
    "\n",
    "for i in queries:\n",
    "    item = i.split(' '),\n",
    "    for j in item:\n",
    "        q = len(j)"
   ]
  },
  {
   "cell_type": "code",
   "execution_count": 167,
   "metadata": {},
   "outputs": [
    {
     "data": {
      "text/plain": [
       "{'vk': {'revenue': 103, 'cost': 98, 'ROI': 5.1},\n",
       " 'yandex': {'revenue': 179, 'cost': 153, 'ROI': 16.99},\n",
       " 'facebook': {'revenue': 103, 'cost': 110, 'ROI': -6.36},\n",
       " 'adwords': {'revenue': 35, 'cost': 34, 'ROI': 2.94},\n",
       " 'twitter': {'revenue': 11, 'cost': 24, 'ROI': -54.17}}"
      ]
     },
     "execution_count": 167,
     "metadata": {},
     "output_type": "execute_result"
    }
   ],
   "source": [
    "#Задание 3\n",
    "\n",
    "results = {\n",
    "'vk': {'revenue': 103, 'cost': 98},\n",
    "'yandex': {'revenue': 179, 'cost': 153},\n",
    "'facebook': {'revenue': 103, 'cost': 110},\n",
    "'adwords': {'revenue': 35, 'cost': 34},\n",
    "'twitter': {'revenue': 11, 'cost': 24},\n",
    "}\n",
    "\n",
    "for i in list(results.values()):\n",
    "    i['ROI'] = round((i['revenue'] / i['cost'] - 1) * 100, 2)\n",
    "    \n",
    "results"
   ]
  },
  {
   "cell_type": "code",
   "execution_count": 178,
   "metadata": {},
   "outputs": [
    {
     "name": "stdout",
     "output_type": "stream",
     "text": [
      "vk\n"
     ]
    }
   ],
   "source": [
    "#Задание 4\n",
    "\n",
    "stats = {'facebook': 55, 'yandex': 115, 'vk': 120, 'google': 99, 'email': 42, 'ok': 98}\n",
    "\n",
    "max_value = max(list(stats.values()))\n",
    "\n",
    "for i, j in stats.items():\n",
    "    if j == max_value:\n",
    "        print(i)"
   ]
  }
 ],
 "metadata": {
  "kernelspec": {
   "display_name": "Python 3",
   "language": "python",
   "name": "python3"
  },
  "language_info": {
   "codemirror_mode": {
    "name": "ipython",
    "version": 3
   },
   "file_extension": ".py",
   "mimetype": "text/x-python",
   "name": "python",
   "nbconvert_exporter": "python",
   "pygments_lexer": "ipython3",
   "version": "3.8.5"
  }
 },
 "nbformat": 4,
 "nbformat_minor": 4
}
