{
 "cells": [
  {
   "cell_type": "code",
   "execution_count": 73,
   "metadata": {},
   "outputs": [
    {
     "name": "stdout",
     "output_type": "stream",
     "text": [
      "Введите номер документа: 10006\n"
     ]
    },
    {
     "data": {
      "text/plain": [
       "'Владелец документа: Аристарх Павлов'"
      ]
     },
     "execution_count": 73,
     "metadata": {},
     "output_type": "execute_result"
    }
   ],
   "source": [
    "documents = [\n",
    "{'type': 'passport', 'number': '2207 876234', 'name': 'Василий Гупкин'},\n",
    "{'type': 'invoice', 'number': '11-2', 'name': 'Геннадий Покемонов'},\n",
    "{'type': 'insurance', 'number': '10006', 'name': 'Аристарх Павлов'}\n",
    "]\n",
    "\n",
    "directories = {\n",
    "'1': ['2207 876234', '11-2'],\n",
    "'2': ['10006'],\n",
    "'3': []\n",
    "}\n",
    "\n",
    "\n",
    "#1 \n",
    "\n",
    "def doc_owner(doc_number):\n",
    "    for i in documents:\n",
    "        if i['number'] == doc_number:\n",
    "            doc_owner = 'Владелец документа: ' + i['name']\n",
    "            break\n",
    "        else: \n",
    "            doc_owner = \"Документ не найден в базе\"\n",
    "    return doc_owner \n",
    "\n",
    "doc_owner (str(input('Введите номер документа: ')))\n",
    "\n",
    "\n"
   ]
  },
  {
   "cell_type": "code",
   "execution_count": 63,
   "metadata": {},
   "outputs": [
    {
     "name": "stdout",
     "output_type": "stream",
     "text": [
      "Введите номер документа: 10006\n"
     ]
    },
    {
     "data": {
      "text/plain": [
       "'Документ хранится на полке: 2'"
      ]
     },
     "execution_count": 63,
     "metadata": {},
     "output_type": "execute_result"
    }
   ],
   "source": [
    "#2\n",
    "\n",
    "documents = [\n",
    "{'type': 'passport', 'number': '2207 876234', 'name': 'Василий Гупкин'},\n",
    "{'type': 'invoice', 'number': '11-2', 'name': 'Геннадий Покемонов'},\n",
    "{'type': 'insurance', 'number': '10006', 'name': 'Аристарх Павлов'}\n",
    "]\n",
    "\n",
    "directories = {\n",
    "'1': ['2207 876234', '11-2'],\n",
    "'2': ['10006'],\n",
    "'3': []\n",
    "}\n",
    "\n",
    "\n",
    "def dir_id(doc_number):\n",
    "    for i in directories:\n",
    "        if doc_number in directories['1']:\n",
    "            dir_id = 'Документ хранится на полке: 1'\n",
    "            break\n",
    "        elif doc_number in directories['2']:\n",
    "            dir_id = 'Документ хранится на полке: 2'\n",
    "            break\n",
    "        elif doc_number in directories['3']:\n",
    "            dir_id = 'Документ хранится на полке: 3'\n",
    "            break\n",
    "        else: \n",
    "            dir_id = \"Документ не найден в базе\"\n",
    "    return dir_id\n",
    "    \n",
    "\n",
    "dir_id (str(input('Введите номер документа: ')))"
   ]
  },
  {
   "cell_type": "code",
   "execution_count": 64,
   "metadata": {},
   "outputs": [
    {
     "name": "stdout",
     "output_type": "stream",
     "text": [
      "№: 2207 876234 , Тип: passport , Владелец: Василий Гупкин , Полка хранения: 1\n",
      "№: 11-2 , Тип: invoice , Владелец: Геннадий Покемонов , Полка хранения: 1\n",
      "№: 10006 , Тип: insurance , Владелец: Аристарх Павлов , Полка хранения: 2\n"
     ]
    }
   ],
   "source": [
    "#3\n",
    "\n",
    "documents = [\n",
    "{'type': 'passport', 'number': '2207 876234', 'name': 'Василий Гупкин'},\n",
    "{'type': 'invoice', 'number': '11-2', 'name': 'Геннадий Покемонов'},\n",
    "{'type': 'insurance', 'number': '10006', 'name': 'Аристарх Павлов'}\n",
    "]\n",
    "\n",
    "directories = {\n",
    "'1': ['2207 876234', '11-2'],\n",
    "'2': ['10006'],\n",
    "'3': []\n",
    "}\n",
    "\n",
    "def doc_info():\n",
    "    for i in documents:\n",
    "        for j in directories:\n",
    "            if i['number'] in directories['1']:\n",
    "                shelf = 1\n",
    "                break\n",
    "            elif i['number'] in directories['2']:\n",
    "                shelf = 2\n",
    "                break\n",
    "            elif i['number'] in directories['3']:\n",
    "                shelf = 3\n",
    "                break\n",
    "        print('№:', i['number'], ', Тип:', i['type'], ', Владелец:', i['name'], ', Полка хранения:', shelf)\n",
    "\n",
    "doc_info ()"
   ]
  },
  {
   "cell_type": "code",
   "execution_count": 67,
   "metadata": {},
   "outputs": [
    {
     "name": "stdout",
     "output_type": "stream",
     "text": [
      "Введите номер полки: 4\n",
      "Полка добавлена. Текущий перечень полок:  ['1', '2', '3', '4']\n"
     ]
    }
   ],
   "source": [
    "#4\n",
    "\n",
    "documents = [\n",
    "{'type': 'passport', 'number': '2207 876234', 'name': 'Василий Гупкин'},\n",
    "{'type': 'invoice', 'number': '11-2', 'name': 'Геннадий Покемонов'},\n",
    "{'type': 'insurance', 'number': '10006', 'name': 'Аристарх Павлов'}\n",
    "]\n",
    "\n",
    "directories = {\n",
    "'1': ['2207 876234', '11-2'],\n",
    "'2': ['10006'],\n",
    "'3': []\n",
    "}\n",
    "\n",
    "def command_as(shelf_number):\n",
    "    directories[shelf_number] = ''\n",
    "    return print('Полка добавлена. Текущий перечень полок: ', list(directories.keys()))\n",
    "\n",
    "command_as (str(input('Введите номер полки: ')))"
   ]
  },
  {
   "cell_type": "code",
   "execution_count": 71,
   "metadata": {},
   "outputs": [
    {
     "name": "stdout",
     "output_type": "stream",
     "text": [
      "Введите номер полки: 5\n",
      "Такой полки не существует. Текущий перечень полок:\n",
      "1\n",
      "2\n",
      "3\n"
     ]
    }
   ],
   "source": [
    "#5\n",
    "\n",
    "documents = [\n",
    "{'type': 'passport', 'number': '2207 876234', 'name': 'Василий Гупкин'},\n",
    "{'type': 'invoice', 'number': '11-2', 'name': 'Геннадий Покемонов'},\n",
    "{'type': 'insurance', 'number': '10006', 'name': 'Аристарх Павлов'}\n",
    "]\n",
    "\n",
    "directories = {\n",
    "'1': ['2207 876234', '11-2'],\n",
    "'2': ['10006'],\n",
    "'3': []\n",
    "}\n",
    "\n",
    "\n",
    "def dic_del(dir_num):\n",
    "    if dir_num not in directories:\n",
    "        print('Такой полки не существует. Текущий перечень полок:')\n",
    "        for key in directories.keys():\n",
    "            print(key)\n",
    "    elif not directories[dir_num]:\n",
    "        del(directories[dir_num])\n",
    "        print('Полка удалена. Текущий перечень полок: ')\n",
    "        for key in directories.keys():\n",
    "            print(key)\n",
    "    elif directories[dir_num]:\n",
    "        print('На полке есть документы, удалите их перед удалением полки. Текущий перечень полок:')\n",
    "        for key in directories.keys():\n",
    "            print(key)\n",
    "\n",
    "dic_del (str(input('Введите номер полки: ')))\n",
    "\n"
   ]
  },
  {
   "cell_type": "code",
   "execution_count": 85,
   "metadata": {},
   "outputs": [
    {
     "name": "stdout",
     "output_type": "stream",
     "text": [
      "Ввведите команду: ds\n",
      "Введите номер полки: 3\n",
      "Полка удалена. Текущий перечень полок: \n",
      "1\n",
      "2\n",
      "None\n"
     ]
    }
   ],
   "source": [
    "documents = [\n",
    "{'type': 'passport', 'number': '2207 876234', 'name': 'Василий Гупкин'},\n",
    "{'type': 'invoice', 'number': '11-2', 'name': 'Геннадий Покемонов'},\n",
    "{'type': 'insurance', 'number': '10006', 'name': 'Аристарх Павлов'}\n",
    "]\n",
    "\n",
    "directories = {\n",
    "'1': ['2207 876234', '11-2'],\n",
    "'2': ['10006'],\n",
    "'3': []\n",
    "}\n",
    "\n",
    "#1 \n",
    "\n",
    "def doc_owner(doc_number):\n",
    "    for i in documents:\n",
    "        if i['number'] == doc_number:\n",
    "            doc_owner = 'Владелец документа: ' + i['name']\n",
    "            break\n",
    "        else: \n",
    "            doc_owner = \"Документ не найден в базе\"\n",
    "    return doc_owner \n",
    "\n",
    "#2\n",
    "\n",
    "documents = [\n",
    "{'type': 'passport', 'number': '2207 876234', 'name': 'Василий Гупкин'},\n",
    "{'type': 'invoice', 'number': '11-2', 'name': 'Геннадий Покемонов'},\n",
    "{'type': 'insurance', 'number': '10006', 'name': 'Аристарх Павлов'}\n",
    "]\n",
    "\n",
    "directories = {\n",
    "'1': ['2207 876234', '11-2'],\n",
    "'2': ['10006'],\n",
    "'3': []\n",
    "}\n",
    "\n",
    "\n",
    "def dir_id(doc_number):\n",
    "    for i in directories:\n",
    "        if doc_number in directories['1']:\n",
    "            dir_id = 'Документ хранится на полке: 1'\n",
    "            break\n",
    "        elif doc_number in directories['2']:\n",
    "            dir_id = 'Документ хранится на полке: 2'\n",
    "            break\n",
    "        elif doc_number in directories['3']:\n",
    "            dir_id = 'Документ хранится на полке: 3'\n",
    "            break\n",
    "        else: \n",
    "            dir_id = \"Документ не найден в базе\"\n",
    "    return dir_id\n",
    "    \n",
    "\n",
    "\n",
    "\n",
    "#3\n",
    "\n",
    "documents = [\n",
    "{'type': 'passport', 'number': '2207 876234', 'name': 'Василий Гупкин'},\n",
    "{'type': 'invoice', 'number': '11-2', 'name': 'Геннадий Покемонов'},\n",
    "{'type': 'insurance', 'number': '10006', 'name': 'Аристарх Павлов'}\n",
    "]\n",
    "\n",
    "directories = {\n",
    "'1': ['2207 876234', '11-2'],\n",
    "'2': ['10006'],\n",
    "'3': []\n",
    "}\n",
    "\n",
    "def doc_info():\n",
    "    for i in documents:\n",
    "        for j in directories:\n",
    "            if i['number'] in directories['1']:\n",
    "                shelf = 1\n",
    "                break\n",
    "            elif i['number'] in directories['2']:\n",
    "                shelf = 2\n",
    "                break\n",
    "            elif i['number'] in directories['3']:\n",
    "                shelf = 3\n",
    "                break\n",
    "        print('№:', i['number'], ', Тип:', i['type'], ', Владелец:', i['name'], ', Полка хранения:', shelf)\n",
    "\n",
    "\n",
    "\n",
    "#4\n",
    "\n",
    "documents = [\n",
    "{'type': 'passport', 'number': '2207 876234', 'name': 'Василий Гупкин'},\n",
    "{'type': 'invoice', 'number': '11-2', 'name': 'Геннадий Покемонов'},\n",
    "{'type': 'insurance', 'number': '10006', 'name': 'Аристарх Павлов'}\n",
    "]\n",
    "\n",
    "directories = {\n",
    "'1': ['2207 876234', '11-2'],\n",
    "'2': ['10006'],\n",
    "'3': []\n",
    "}\n",
    "\n",
    "def command_as(shelf_number):\n",
    "    directories[shelf_number] = ''\n",
    "    return print('Полка добавлена. Текущий перечень полок: ', list(directories.keys()))\n",
    "\n",
    "\n",
    "\n",
    "\n",
    "#5\n",
    "\n",
    "documents = [\n",
    "{'type': 'passport', 'number': '2207 876234', 'name': 'Василий Гупкин'},\n",
    "{'type': 'invoice', 'number': '11-2', 'name': 'Геннадий Покемонов'},\n",
    "{'type': 'insurance', 'number': '10006', 'name': 'Аристарх Павлов'}\n",
    "]\n",
    "\n",
    "directories = {\n",
    "'1': ['2207 876234', '11-2'],\n",
    "'2': ['10006'],\n",
    "'3': []\n",
    "}\n",
    "\n",
    "\n",
    "def dic_del(dir_num):\n",
    "    if dir_num not in directories:\n",
    "        print('Такой полки не существует. Текущий перечень полок:')\n",
    "        for key in directories.keys():\n",
    "            print(key)\n",
    "    elif not directories[dir_num]:\n",
    "        del(directories[dir_num])\n",
    "        print('Полка удалена. Текущий перечень полок: ')\n",
    "        for key in directories.keys():\n",
    "            print(key)\n",
    "    elif directories[dir_num]:\n",
    "        print('На полке есть документы, удалите их перед удалением полки. Текущий перечень полок:')\n",
    "        for key in directories.keys():\n",
    "            print(key)\n",
    "\n",
    "command = input('Ввведите команду: ')\n",
    "\n",
    "if command == 'p': \n",
    "    print(doc_owner (str(input('Введите номер документа: '))))\n",
    "elif command == 's':\n",
    "    print(dir_id (str(input('Введите номер документа: '))))\n",
    "elif command == 'l':\n",
    "    print(doc_info ())\n",
    "elif command == 'as':\n",
    "    print(command_as (str(input('Введите номер полки: '))))\n",
    "elif command == 'ds':\n",
    "    print(dic_del (str(input('Введите номер полки: '))))\n",
    "    \n",
    "    \n",
    "    "
   ]
  },
  {
   "cell_type": "code",
   "execution_count": 6,
   "metadata": {},
   "outputs": [
    {
     "data": {
      "text/plain": [
       "True"
      ]
     },
     "execution_count": 6,
     "metadata": {},
     "output_type": "execute_result"
    }
   ],
   "source": []
  }
 ],
 "metadata": {
  "kernelspec": {
   "display_name": "Python 3",
   "language": "python",
   "name": "python3"
  },
  "language_info": {
   "codemirror_mode": {
    "name": "ipython",
    "version": 3
   },
   "file_extension": ".py",
   "mimetype": "text/x-python",
   "name": "python",
   "nbconvert_exporter": "python",
   "pygments_lexer": "ipython3",
   "version": "3.8.5"
  }
 },
 "nbformat": 4,
 "nbformat_minor": 4
}
