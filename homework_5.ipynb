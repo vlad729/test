{
 "cells": [
  {
   "cell_type": "code",
   "execution_count": 1,
   "metadata": {},
   "outputs": [
    {
     "name": "stdout",
     "output_type": "stream",
     "text": [
      "{'user_id': 'category', '1840e0b9d4': 'Продукты', '4e4f90fcfb': 'Электроника', 'afea8d72fc': 'Электроника', '373a6055fe': 'Бытовая техника', '9b2ab046f3': 'Электроника', '9f39d307c3': 'Электроника', '44edeffc91': 'Продукты', '704474fa2d': 'Продукты', '1de31be403': 'Бытовая техника', 'b71f36a5e4': 'Продукты', '79843a685a': 'Продукты', 'ff68cee0d6': 'Бытовая техника', 'e8447c40e2': 'Досуг', '98d290be27': 'Электроника', 'fa0079a5a8': 'Досуг', '22d2f03a17': 'Досуг', '3f8e1ccd3f': 'Электроника', '81a9988b83': 'Электроника', '65f44a2eb7': 'Досуг', '5f8fbb0149': 'Бытовая техника'}\n"
     ]
    }
   ],
   "source": [
    "#Задание 1\n",
    "\n",
    "f = open('purchase_log.txt')\n",
    "\n",
    "import json\n",
    "\n",
    "purchases = {}\n",
    "\n",
    "i = 0\n",
    "\n",
    "for line in f: \n",
    "    line = line.strip()\n",
    "    dict_ = json.loads(line)\n",
    "    purchases[dict_['user_id']] = dict_['category']\n",
    "    i += 1\n",
    "    if i>20:break\n",
    "        \n",
    "f.close\n",
    "\n",
    "print(purchases)\n",
    "    "
   ]
  },
  {
   "cell_type": "code",
   "execution_count": 80,
   "metadata": {},
   "outputs": [
    {
     "name": "stdout",
     "output_type": "stream",
     "text": [
      "{0: ['user_id', 'source', 'category'], 1: ['1840e0b9d4', 'other', 'Продукты'], 2: ['4e4f90fcfb', 'context', 'Электроника'], 3: ['afea8d72fc', 'other', 'Электроника'], 4: ['373a6055fe', 'other', 'Бытовая техника'], 5: ['9b2ab046f3', 'other', 'Электроника'], 6: ['9f39d307c3', 'context', 'Электроника'], 7: ['44edeffc91', 'context', 'Продукты'], 8: ['704474fa2d', 'other', 'Продукты'], 9: ['1de31be403', 'other', 'Бытовая техника'], 10: ['b71f36a5e4', 'other', 'Продукты'], 11: ['79843a685a', 'context', 'Продукты'], 12: ['ff68cee0d6', 'context', 'Бытовая техника'], 13: ['e8447c40e2', 'email', 'Досуг'], 14: ['98d290be27', 'other', 'Электроника'], 15: ['fa0079a5a8', 'other', 'Досуг'], 16: ['22d2f03a17', 'context', 'Досуг'], 17: ['3f8e1ccd3f', 'other', 'Электроника'], 18: ['81a9988b83', 'context', 'Электроника'], 19: ['65f44a2eb7', 'context', 'Досуг'], 20: ['5f8fbb0149', 'other', 'Бытовая техника']}\n"
     ]
    },
    {
     "data": {
      "text/plain": [
       "902"
      ]
     },
     "execution_count": 80,
     "metadata": {},
     "output_type": "execute_result"
    }
   ],
   "source": [
    "#Задание 2\n",
    "\n",
    "f_visits = open('visit_log.csv')\n",
    "\n",
    "visit_dict = {}\n",
    "\n",
    "f_purch = open('purchase_log.txt')\n",
    "\n",
    "import json\n",
    "\n",
    "dict_ = {}\n",
    "\n",
    "i = 0\n",
    "\n",
    "f_funnel = open ('funnel.csv', 'w')\n",
    "\n",
    "for line in f_visits: \n",
    "    line = line.strip().split(',')\n",
    "    a = purchases.get(line[0])\n",
    "    if a != None:\n",
    "        a_list = [a]\n",
    "        line = line + a_list\n",
    "        dict_[i] = line\n",
    "        i += 1\n",
    "        \n",
    "print(dict_)\n",
    "        \n",
    "f_visits.close\n",
    "\n",
    "f_purch.close\n",
    "\n",
    "result = str(dict_)\n",
    "\n",
    "json.dumps(result)\n",
    "\n",
    "f_funnel.write(result)\n",
    "\n"
   ]
  },
  {
   "cell_type": "code",
   "execution_count": null,
   "metadata": {},
   "outputs": [],
   "source": []
  },
  {
   "cell_type": "code",
   "execution_count": null,
   "metadata": {},
   "outputs": [],
   "source": []
  },
  {
   "cell_type": "code",
   "execution_count": 11,
   "metadata": {},
   "outputs": [
    {
     "data": {
      "text/plain": [
       "False"
      ]
     },
     "execution_count": 11,
     "metadata": {},
     "output_type": "execute_result"
    }
   ],
   "source": []
  }
 ],
 "metadata": {
  "kernelspec": {
   "display_name": "Python 3",
   "language": "python",
   "name": "python3"
  },
  "language_info": {
   "codemirror_mode": {
    "name": "ipython",
    "version": 3
   },
   "file_extension": ".py",
   "mimetype": "text/x-python",
   "name": "python",
   "nbconvert_exporter": "python",
   "pygments_lexer": "ipython3",
   "version": "3.8.5"
  }
 },
 "nbformat": 4,
 "nbformat_minor": 4
}
