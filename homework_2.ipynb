{
 "cells": [
  {
   "cell_type": "code",
   "execution_count": 58,
   "metadata": {},
   "outputs": [
    {
     "name": "stdout",
     "output_type": "stream",
     "text": [
      "r\n"
     ]
    }
   ],
   "source": [
    "#Задание 1\n",
    "\n",
    "word = 'Dorou'\n",
    "\n",
    "a = int(len(word)/2-0.5)\n",
    "\n",
    "word[a]\n",
    "\n",
    "if len(word) % 2 != 0:\n",
    "    a = int(len(word)/2-0.5)\n",
    "    print(word[a])\n",
    "else :\n",
    "    a = int(len(word)/2-1)\n",
    "    b = int(len(word)/2+1)\n",
    "    print(word[a] + word[b])"
   ]
  },
  {
   "cell_type": "code",
   "execution_count": 59,
   "metadata": {},
   "outputs": [
    {
     "name": "stdout",
     "output_type": "stream",
     "text": [
      "Введите число: 2\n",
      "Введите число321\n",
      "Введите число32\n",
      "Введите число23\n",
      "Введите число32\n",
      "Введите число3\n",
      "Введите число2\n",
      "Введите число1\n",
      "Введите число2\n",
      "Введите число2\n",
      "Введите число3\n",
      "Введите число0\n",
      "423\n"
     ]
    }
   ],
   "source": [
    "#Задание 2\n",
    "\n",
    "a = int(input('Введите число: '))\n",
    "\n",
    "b = [0]\n",
    "\n",
    "if a == 0:\n",
    "    print(a)\n",
    "else:\n",
    "    b.append(a)\n",
    "    while a != 0:\n",
    "        a = int(input('Введите число'))\n",
    "        b.append(a)\n",
    "    print(sum(b))\n"
   ]
  },
  {
   "cell_type": "code",
   "execution_count": 2,
   "metadata": {},
   "outputs": [
    {
     "name": "stdout",
     "output_type": "stream",
     "text": [
      "Идеальные пары: [('Alex', 'Emma'), ('Arthur', 'Kate'), ('John', 'Kira'), ('Peter', 'Liza'), ('Richard', 'Trisha')]\n"
     ]
    }
   ],
   "source": [
    "#Задание 3\n",
    "\n",
    "boys = ['Peter', 'Alex', 'John', 'Arthur', 'Richard']\n",
    "girls = ['Kate', 'Liza', 'Kira', 'Emma', 'Trisha']\n",
    "\n",
    "if len(boys) != len(girls):\n",
    "    print('Внимание, кто-то может остаться без пары!')\n",
    "else:\n",
    "    boys_sorted = sorted(boys)\n",
    "    girls_sorted = sorted(girls)\n",
    "    print('Идеальные пары:', list(zip(boys_sorted, girls_sorted)))\n",
    "    "
   ]
  },
  {
   "cell_type": "code",
   "execution_count": 85,
   "metadata": {},
   "outputs": [
    {
     "name": "stdout",
     "output_type": "stream",
     "text": [
      "Средняя температура в градусах Цельсия: Thailand 39.1 Germany 28.02 Russia 18.95 Poland 26.81\n"
     ]
    }
   ],
   "source": [
    "#Задание 4\n",
    "\n",
    "countries_temperature = [\n",
    "['Thailand', [75.2, 77, 78.8, 73.4, 68, 75.2, 77]],\n",
    "['Germany', [57.2, 55.4, 59, 59, 53.6]],\n",
    "['Russia', [35.6, 37.4, 39.2, 41, 42.8, 39.2, 35.6]],\n",
    "['Poland', [50, 50, 53.6, 57.2, 55.4, 55.4]]\n",
    "]\n",
    "\n",
    "thai_temp = round((sum(countries_temperature[0][1]) - 32) * 5 / 9 / len(countries_temperature[0][1]), 2)\n",
    "germ_temp = round((sum(countries_temperature[1][1]) - 32) * 5 / 9 / len(countries_temperature[1][1]), 2)\n",
    "rus_temp = round((sum(countries_temperature[2][1]) - 32) * 5 / 9 / len(countries_temperature[2][1]), 2)\n",
    "pol_temp = round((sum(countries_temperature[3][1]) - 32) * 5 / 9 / len(countries_temperature[3][1]), 2)\n",
    "\n",
    "print('Средняя температура в градусах Цельсия:',\n",
    "'Thailand', thai_temp,\n",
    "'Germany', germ_temp,\n",
    "'Russia', rus_temp,\n",
    "'Poland', pol_temp)"
   ]
  },
  {
   "cell_type": "code",
   "execution_count": 80,
   "metadata": {},
   "outputs": [],
   "source": []
  }
 ],
 "metadata": {
  "kernelspec": {
   "display_name": "Python 3",
   "language": "python",
   "name": "python3"
  },
  "language_info": {
   "codemirror_mode": {
    "name": "ipython",
    "version": 3
   },
   "file_extension": ".py",
   "mimetype": "text/x-python",
   "name": "python",
   "nbconvert_exporter": "python",
   "pygments_lexer": "ipython3",
   "version": "3.8.5"
  }
 },
 "nbformat": 4,
 "nbformat_minor": 4
}
